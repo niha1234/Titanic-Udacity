{
 "cells": [
  {
   "cell_type": "markdown",
   "metadata": {},
   "source": [
    "# Titanic Data Analyses for Survival Chance factors"
   ]
  },
  {
   "cell_type": "markdown",
   "metadata": {},
   "source": [
    "# Introduction\n",
    "The titanic data set taken from kaggle data science website, features 891 entries as sample dataset. We will do basic analyses of dataset inculding graphs, function to determine that what are factors in order to know the survival chances of a passengers who boarded the ship.\n",
    "\n",
    "### Data Dictionary\n",
    "\n",
    "Variable\tDefinition\tKey\n",
    "survival\tSurvival\t0 = No, 1 = Yes\n",
    "pclass\tTicket class\t1 = 1st, 2 = 2nd, 3 = 3rd\n",
    "sex\tSex\t\n",
    "Age\tAge in years\t\n",
    "sibsp\t# of siblings / spouses aboard the Titanic\t\n",
    "parch\t# of parents / children aboard the Titanic\t\n",
    "ticket\tTicket number\t\n",
    "fare\tPassenger fare\t\n",
    "cabin\tCabin number\t\n",
    "embarked\tPort of Embarkation\tC = Cherbourg, Q = Queenstown, S = Southampton\n",
    "\n",
    "### Variable Notes\n",
    "\n",
    "pclass: A proxy for socio-economic status (SES)\n",
    "1st = Upper\n",
    "2nd = Middle\n",
    "3rd = Lower\n",
    "\n",
    "age: Age is fractional if less than 1. If the age is estimated, is it in the form of xx.5\n",
    "\n",
    "sibsp: The dataset defines family relations in this way...\n",
    "Sibling = brother, sister, stepbrother, stepsister\n",
    "Spouse = husband, wife (mistresses and fiancés were ignored)\n",
    "\n",
    "parch: The dataset defines family relations in this way...\n",
    "Parent = mother, father\n",
    "Child = daughter, son, stepdaughter, stepson\n",
    "Some children travelled only with a nanny, therefore parch=0 for them.\n",
    "\n",
    "### Data Mining Questions:\n",
    "\n",
    "1. Does age group increases the survival chances?\n",
    "2. Does being female or male in in particular age group increases the survival chance?\n",
    "3. Does passenger class increases the the survival chance?\n"
   ]
  },
  {
   "cell_type": "code",
   "execution_count": 2,
   "metadata": {
    "collapsed": false
   },
   "outputs": [],
   "source": [
    "import pandas as pd\n",
    "import numpy as np\n",
    "\n",
    "# Read data\n",
    "titanic_data = pd.read_csv('titanic_data.csv')"
   ]
  },
  {
   "cell_type": "code",
   "execution_count": 3,
   "metadata": {
    "collapsed": false
   },
   "outputs": [
    {
     "data": {
      "text/html": [
       "<div>\n",
       "<table border=\"1\" class=\"dataframe\">\n",
       "  <thead>\n",
       "    <tr style=\"text-align: right;\">\n",
       "      <th></th>\n",
       "      <th>PassengerId</th>\n",
       "      <th>Survived</th>\n",
       "      <th>Pclass</th>\n",
       "      <th>Name</th>\n",
       "      <th>Sex</th>\n",
       "      <th>Age</th>\n",
       "      <th>SibSp</th>\n",
       "      <th>Parch</th>\n",
       "      <th>Ticket</th>\n",
       "      <th>Fare</th>\n",
       "      <th>Cabin</th>\n",
       "      <th>Embarked</th>\n",
       "    </tr>\n",
       "  </thead>\n",
       "  <tbody>\n",
       "    <tr>\n",
       "      <th>0</th>\n",
       "      <td>1</td>\n",
       "      <td>0</td>\n",
       "      <td>3</td>\n",
       "      <td>Braund, Mr. Owen Harris</td>\n",
       "      <td>male</td>\n",
       "      <td>22.0</td>\n",
       "      <td>1</td>\n",
       "      <td>0</td>\n",
       "      <td>A/5 21171</td>\n",
       "      <td>7.2500</td>\n",
       "      <td>NaN</td>\n",
       "      <td>S</td>\n",
       "    </tr>\n",
       "    <tr>\n",
       "      <th>1</th>\n",
       "      <td>2</td>\n",
       "      <td>1</td>\n",
       "      <td>1</td>\n",
       "      <td>Cumings, Mrs. John Bradley (Florence Briggs Th...</td>\n",
       "      <td>female</td>\n",
       "      <td>38.0</td>\n",
       "      <td>1</td>\n",
       "      <td>0</td>\n",
       "      <td>PC 17599</td>\n",
       "      <td>71.2833</td>\n",
       "      <td>C85</td>\n",
       "      <td>C</td>\n",
       "    </tr>\n",
       "    <tr>\n",
       "      <th>2</th>\n",
       "      <td>3</td>\n",
       "      <td>1</td>\n",
       "      <td>3</td>\n",
       "      <td>Heikkinen, Miss. Laina</td>\n",
       "      <td>female</td>\n",
       "      <td>26.0</td>\n",
       "      <td>0</td>\n",
       "      <td>0</td>\n",
       "      <td>STON/O2. 3101282</td>\n",
       "      <td>7.9250</td>\n",
       "      <td>NaN</td>\n",
       "      <td>S</td>\n",
       "    </tr>\n",
       "    <tr>\n",
       "      <th>3</th>\n",
       "      <td>4</td>\n",
       "      <td>1</td>\n",
       "      <td>1</td>\n",
       "      <td>Futrelle, Mrs. Jacques Heath (Lily May Peel)</td>\n",
       "      <td>female</td>\n",
       "      <td>35.0</td>\n",
       "      <td>1</td>\n",
       "      <td>0</td>\n",
       "      <td>113803</td>\n",
       "      <td>53.1000</td>\n",
       "      <td>C123</td>\n",
       "      <td>S</td>\n",
       "    </tr>\n",
       "    <tr>\n",
       "      <th>4</th>\n",
       "      <td>5</td>\n",
       "      <td>0</td>\n",
       "      <td>3</td>\n",
       "      <td>Allen, Mr. William Henry</td>\n",
       "      <td>male</td>\n",
       "      <td>35.0</td>\n",
       "      <td>0</td>\n",
       "      <td>0</td>\n",
       "      <td>373450</td>\n",
       "      <td>8.0500</td>\n",
       "      <td>NaN</td>\n",
       "      <td>S</td>\n",
       "    </tr>\n",
       "  </tbody>\n",
       "</table>\n",
       "</div>"
      ],
      "text/plain": [
       "   PassengerId  Survived  Pclass  \\\n",
       "0            1         0       3   \n",
       "1            2         1       1   \n",
       "2            3         1       3   \n",
       "3            4         1       1   \n",
       "4            5         0       3   \n",
       "\n",
       "                                                Name     Sex   Age  SibSp  \\\n",
       "0                            Braund, Mr. Owen Harris    male  22.0      1   \n",
       "1  Cumings, Mrs. John Bradley (Florence Briggs Th...  female  38.0      1   \n",
       "2                             Heikkinen, Miss. Laina  female  26.0      0   \n",
       "3       Futrelle, Mrs. Jacques Heath (Lily May Peel)  female  35.0      1   \n",
       "4                           Allen, Mr. William Henry    male  35.0      0   \n",
       "\n",
       "   Parch            Ticket     Fare Cabin Embarked  \n",
       "0      0         A/5 21171   7.2500   NaN        S  \n",
       "1      0          PC 17599  71.2833   C85        C  \n",
       "2      0  STON/O2. 3101282   7.9250   NaN        S  \n",
       "3      0            113803  53.1000  C123        S  \n",
       "4      0            373450   8.0500   NaN        S  "
      ]
     },
     "execution_count": 3,
     "metadata": {},
     "output_type": "execute_result"
    }
   ],
   "source": [
    "titanic_data.head()  # Initail analyses with getting info on data such names and what kind of\n",
    "                     # values they consist in the dataframe"
   ]
  },
  {
   "cell_type": "code",
   "execution_count": 4,
   "metadata": {
    "collapsed": false
   },
   "outputs": [
    {
     "name": "stdout",
     "output_type": "stream",
     "text": [
      "<class 'pandas.core.frame.DataFrame'>\n",
      "RangeIndex: 891 entries, 0 to 890\n",
      "Data columns (total 12 columns):\n",
      "PassengerId    891 non-null int64\n",
      "Survived       891 non-null int64\n",
      "Pclass         891 non-null int64\n",
      "Name           891 non-null object\n",
      "Sex            891 non-null object\n",
      "Age            714 non-null float64\n",
      "SibSp          891 non-null int64\n",
      "Parch          891 non-null int64\n",
      "Ticket         891 non-null object\n",
      "Fare           891 non-null float64\n",
      "Cabin          204 non-null object\n",
      "Embarked       889 non-null object\n",
      "dtypes: float64(2), int64(5), object(5)\n",
      "memory usage: 83.6+ KB\n"
     ]
    }
   ],
   "source": [
    "titanic_data.info() # Data set information related to data type and count which gives more insigts about\n",
    "                    # null values in each variable"
   ]
  },
  {
   "cell_type": "markdown",
   "metadata": {},
   "source": [
    "With the information on titanic data set we can see that total entries are 891, however Age field has 714 non null entries, Cabin field has 204 non null entries, and Embarked has 889 non null entries. \n",
    "This suggests that either these information were missing or not entered. Whichever the case, we need to either substitute with a new entry accordingly with the field or remove it from the dataset, as dropping rows with NAs with small dataset is not recommended due to the loss of data. This sample dataset has 891 entries and null entries in Age field are 77. Deleting these many rows with null values could affect analysis for other variables. I have decided to substitue null feilds in Age with mean value of Age. However, this decision may cause bias as this would increase number of survivors/non-survivors in respective age group replaced with mean value."
   ]
  },
  {
   "cell_type": "code",
   "execution_count": 5,
   "metadata": {
    "collapsed": false
   },
   "outputs": [
    {
     "data": {
      "text/html": [
       "<div>\n",
       "<table border=\"1\" class=\"dataframe\">\n",
       "  <thead>\n",
       "    <tr style=\"text-align: right;\">\n",
       "      <th></th>\n",
       "      <th>PassengerId</th>\n",
       "      <th>Survived</th>\n",
       "      <th>Pclass</th>\n",
       "      <th>Age</th>\n",
       "      <th>SibSp</th>\n",
       "      <th>Parch</th>\n",
       "      <th>Fare</th>\n",
       "    </tr>\n",
       "  </thead>\n",
       "  <tbody>\n",
       "    <tr>\n",
       "      <th>count</th>\n",
       "      <td>891.000000</td>\n",
       "      <td>891.000000</td>\n",
       "      <td>891.000000</td>\n",
       "      <td>714.000000</td>\n",
       "      <td>891.000000</td>\n",
       "      <td>891.000000</td>\n",
       "      <td>891.000000</td>\n",
       "    </tr>\n",
       "    <tr>\n",
       "      <th>mean</th>\n",
       "      <td>446.000000</td>\n",
       "      <td>0.383838</td>\n",
       "      <td>2.308642</td>\n",
       "      <td>29.699118</td>\n",
       "      <td>0.523008</td>\n",
       "      <td>0.381594</td>\n",
       "      <td>32.204208</td>\n",
       "    </tr>\n",
       "    <tr>\n",
       "      <th>std</th>\n",
       "      <td>257.353842</td>\n",
       "      <td>0.486592</td>\n",
       "      <td>0.836071</td>\n",
       "      <td>14.526497</td>\n",
       "      <td>1.102743</td>\n",
       "      <td>0.806057</td>\n",
       "      <td>49.693429</td>\n",
       "    </tr>\n",
       "    <tr>\n",
       "      <th>min</th>\n",
       "      <td>1.000000</td>\n",
       "      <td>0.000000</td>\n",
       "      <td>1.000000</td>\n",
       "      <td>0.420000</td>\n",
       "      <td>0.000000</td>\n",
       "      <td>0.000000</td>\n",
       "      <td>0.000000</td>\n",
       "    </tr>\n",
       "    <tr>\n",
       "      <th>25%</th>\n",
       "      <td>223.500000</td>\n",
       "      <td>0.000000</td>\n",
       "      <td>2.000000</td>\n",
       "      <td>20.125000</td>\n",
       "      <td>0.000000</td>\n",
       "      <td>0.000000</td>\n",
       "      <td>7.910400</td>\n",
       "    </tr>\n",
       "    <tr>\n",
       "      <th>50%</th>\n",
       "      <td>446.000000</td>\n",
       "      <td>0.000000</td>\n",
       "      <td>3.000000</td>\n",
       "      <td>28.000000</td>\n",
       "      <td>0.000000</td>\n",
       "      <td>0.000000</td>\n",
       "      <td>14.454200</td>\n",
       "    </tr>\n",
       "    <tr>\n",
       "      <th>75%</th>\n",
       "      <td>668.500000</td>\n",
       "      <td>1.000000</td>\n",
       "      <td>3.000000</td>\n",
       "      <td>38.000000</td>\n",
       "      <td>1.000000</td>\n",
       "      <td>0.000000</td>\n",
       "      <td>31.000000</td>\n",
       "    </tr>\n",
       "    <tr>\n",
       "      <th>max</th>\n",
       "      <td>891.000000</td>\n",
       "      <td>1.000000</td>\n",
       "      <td>3.000000</td>\n",
       "      <td>80.000000</td>\n",
       "      <td>8.000000</td>\n",
       "      <td>6.000000</td>\n",
       "      <td>512.329200</td>\n",
       "    </tr>\n",
       "  </tbody>\n",
       "</table>\n",
       "</div>"
      ],
      "text/plain": [
       "       PassengerId    Survived      Pclass         Age       SibSp  \\\n",
       "count   891.000000  891.000000  891.000000  714.000000  891.000000   \n",
       "mean    446.000000    0.383838    2.308642   29.699118    0.523008   \n",
       "std     257.353842    0.486592    0.836071   14.526497    1.102743   \n",
       "min       1.000000    0.000000    1.000000    0.420000    0.000000   \n",
       "25%     223.500000    0.000000    2.000000   20.125000    0.000000   \n",
       "50%     446.000000    0.000000    3.000000   28.000000    0.000000   \n",
       "75%     668.500000    1.000000    3.000000   38.000000    1.000000   \n",
       "max     891.000000    1.000000    3.000000   80.000000    8.000000   \n",
       "\n",
       "            Parch        Fare  \n",
       "count  891.000000  891.000000  \n",
       "mean     0.381594   32.204208  \n",
       "std      0.806057   49.693429  \n",
       "min      0.000000    0.000000  \n",
       "25%      0.000000    7.910400  \n",
       "50%      0.000000   14.454200  \n",
       "75%      0.000000   31.000000  \n",
       "max      6.000000  512.329200  "
      ]
     },
     "execution_count": 5,
     "metadata": {},
     "output_type": "execute_result"
    }
   ],
   "source": [
    "titanic_data.describe() # Describes general statistics of each variable"
   ]
  },
  {
   "cell_type": "markdown",
   "metadata": {},
   "source": [
    "Max age is 80 years, and minimum age is .42 years. Simlarly max fare is 512.32, and minimum fare is 0.00."
   ]
  },
  {
   "cell_type": "markdown",
   "metadata": {},
   "source": [
    "# Data Cleaning"
   ]
  },
  {
   "cell_type": "markdown",
   "metadata": {},
   "source": [
    "Below is the Number of passengers boarded the ship from each Emabrked point in the given sample data set"
   ]
  },
  {
   "cell_type": "code",
   "execution_count": 6,
   "metadata": {
    "collapsed": false
   },
   "outputs": [
    {
     "data": {
      "text/plain": [
       "Embarked\n",
       "C    168\n",
       "Q     77\n",
       "S    644\n",
       "dtype: int64"
      ]
     },
     "execution_count": 6,
     "metadata": {},
     "output_type": "execute_result"
    }
   ],
   "source": [
    "Count_Embarked = titanic_data.groupby('Embarked').size() \n",
    "Count_Embarked"
   ]
  },
  {
   "cell_type": "markdown",
   "metadata": {},
   "source": [
    "It is clear that most of the passengers had departed from SouthHampton which is denoted by 'S' in the data set. Therefore, we can make assumption that null entries in the Embarked field can be replaced with SouthHampton with the dontion 'S'."
   ]
  },
  {
   "cell_type": "code",
   "execution_count": 7,
   "metadata": {
    "collapsed": false
   },
   "outputs": [
    {
     "data": {
      "text/plain": [
       "Embarked\n",
       "C    168\n",
       "Q     77\n",
       "S    646\n",
       "dtype: int64"
      ]
     },
     "execution_count": 7,
     "metadata": {},
     "output_type": "execute_result"
    }
   ],
   "source": [
    "titanic_data['Embarked'] = titanic_data.Embarked.replace(np.NaN, 'S')\n",
    "Count_Embarked = titanic_data.groupby('Embarked').size()\n",
    "Count_Embarked\n"
   ]
  },
  {
   "cell_type": "markdown",
   "metadata": {},
   "source": [
    "In order to have a more clear idea that which age group has more chaces of survival, I would like to do Binning Age and creating a new column with age_group "
   ]
  },
  {
   "cell_type": "code",
   "execution_count": 8,
   "metadata": {
    "collapsed": false
   },
   "outputs": [
    {
     "data": {
      "text/html": [
       "<div>\n",
       "<table border=\"1\" class=\"dataframe\">\n",
       "  <thead>\n",
       "    <tr style=\"text-align: right;\">\n",
       "      <th></th>\n",
       "      <th>PassengerId</th>\n",
       "      <th>Survived</th>\n",
       "      <th>Pclass</th>\n",
       "      <th>Name</th>\n",
       "      <th>Sex</th>\n",
       "      <th>Age</th>\n",
       "      <th>SibSp</th>\n",
       "      <th>Parch</th>\n",
       "      <th>Ticket</th>\n",
       "      <th>Fare</th>\n",
       "      <th>Cabin</th>\n",
       "      <th>Embarked</th>\n",
       "      <th>age_group</th>\n",
       "    </tr>\n",
       "  </thead>\n",
       "  <tbody>\n",
       "    <tr>\n",
       "      <th>0</th>\n",
       "      <td>1</td>\n",
       "      <td>0</td>\n",
       "      <td>3</td>\n",
       "      <td>Braund, Mr. Owen Harris</td>\n",
       "      <td>male</td>\n",
       "      <td>22.0</td>\n",
       "      <td>1</td>\n",
       "      <td>0</td>\n",
       "      <td>A/5 21171</td>\n",
       "      <td>7.2500</td>\n",
       "      <td>NaN</td>\n",
       "      <td>S</td>\n",
       "      <td>20s</td>\n",
       "    </tr>\n",
       "    <tr>\n",
       "      <th>1</th>\n",
       "      <td>2</td>\n",
       "      <td>1</td>\n",
       "      <td>1</td>\n",
       "      <td>Cumings, Mrs. John Bradley (Florence Briggs Th...</td>\n",
       "      <td>female</td>\n",
       "      <td>38.0</td>\n",
       "      <td>1</td>\n",
       "      <td>0</td>\n",
       "      <td>PC 17599</td>\n",
       "      <td>71.2833</td>\n",
       "      <td>C85</td>\n",
       "      <td>C</td>\n",
       "      <td>30s</td>\n",
       "    </tr>\n",
       "    <tr>\n",
       "      <th>2</th>\n",
       "      <td>3</td>\n",
       "      <td>1</td>\n",
       "      <td>3</td>\n",
       "      <td>Heikkinen, Miss. Laina</td>\n",
       "      <td>female</td>\n",
       "      <td>26.0</td>\n",
       "      <td>0</td>\n",
       "      <td>0</td>\n",
       "      <td>STON/O2. 3101282</td>\n",
       "      <td>7.9250</td>\n",
       "      <td>NaN</td>\n",
       "      <td>S</td>\n",
       "      <td>20s</td>\n",
       "    </tr>\n",
       "    <tr>\n",
       "      <th>3</th>\n",
       "      <td>4</td>\n",
       "      <td>1</td>\n",
       "      <td>1</td>\n",
       "      <td>Futrelle, Mrs. Jacques Heath (Lily May Peel)</td>\n",
       "      <td>female</td>\n",
       "      <td>35.0</td>\n",
       "      <td>1</td>\n",
       "      <td>0</td>\n",
       "      <td>113803</td>\n",
       "      <td>53.1000</td>\n",
       "      <td>C123</td>\n",
       "      <td>S</td>\n",
       "      <td>30s</td>\n",
       "    </tr>\n",
       "    <tr>\n",
       "      <th>4</th>\n",
       "      <td>5</td>\n",
       "      <td>0</td>\n",
       "      <td>3</td>\n",
       "      <td>Allen, Mr. William Henry</td>\n",
       "      <td>male</td>\n",
       "      <td>35.0</td>\n",
       "      <td>0</td>\n",
       "      <td>0</td>\n",
       "      <td>373450</td>\n",
       "      <td>8.0500</td>\n",
       "      <td>NaN</td>\n",
       "      <td>S</td>\n",
       "      <td>30s</td>\n",
       "    </tr>\n",
       "  </tbody>\n",
       "</table>\n",
       "</div>"
      ],
      "text/plain": [
       "   PassengerId  Survived  Pclass  \\\n",
       "0            1         0       3   \n",
       "1            2         1       1   \n",
       "2            3         1       3   \n",
       "3            4         1       1   \n",
       "4            5         0       3   \n",
       "\n",
       "                                                Name     Sex   Age  SibSp  \\\n",
       "0                            Braund, Mr. Owen Harris    male  22.0      1   \n",
       "1  Cumings, Mrs. John Bradley (Florence Briggs Th...  female  38.0      1   \n",
       "2                             Heikkinen, Miss. Laina  female  26.0      0   \n",
       "3       Futrelle, Mrs. Jacques Heath (Lily May Peel)  female  35.0      1   \n",
       "4                           Allen, Mr. William Henry    male  35.0      0   \n",
       "\n",
       "   Parch            Ticket     Fare Cabin Embarked age_group  \n",
       "0      0         A/5 21171   7.2500   NaN        S       20s  \n",
       "1      0          PC 17599  71.2833   C85        C       30s  \n",
       "2      0  STON/O2. 3101282   7.9250   NaN        S       20s  \n",
       "3      0            113803  53.1000  C123        S       30s  \n",
       "4      0            373450   8.0500   NaN        S       30s  "
      ]
     },
     "execution_count": 8,
     "metadata": {},
     "output_type": "execute_result"
    }
   ],
   "source": [
    "\n",
    "bins = [0,10,20,30,40,50,60,70,80,90,100]\n",
    "age_labels = ['Kid', 'Teen', '20s', '30s', '40s', '50s','60s','70s','80s','90s']\n",
    "titanic_data['age_group'] = pd.cut(titanic_data.Age, bins, right=False, labels=age_labels)\n",
    "\n",
    "titanic_data.head()"
   ]
  },
  {
   "cell_type": "code",
   "execution_count": 9,
   "metadata": {
    "collapsed": false
   },
   "outputs": [],
   "source": [
    "titanic_data_survivors_before_cleaning = titanic_data.groupby('Survived').get_group(1)\n",
    "\n",
    "titaninc_data_non_survivors_before_cleaning = titanic_data.groupby('Survived').get_group(0)\n"
   ]
  },
  {
   "cell_type": "code",
   "execution_count": 10,
   "metadata": {
    "collapsed": false
   },
   "outputs": [],
   "source": [
    "age_group_survivors_before_cleaning = titanic_data_survivors_before_cleaning.groupby('age_group').size()"
   ]
  },
  {
   "cell_type": "code",
   "execution_count": 11,
   "metadata": {
    "collapsed": false
   },
   "outputs": [],
   "source": [
    "age_group_non_survivors_before_cleaning = titaninc_data_non_survivors_before_cleaning.groupby('age_group').size()"
   ]
  },
  {
   "cell_type": "markdown",
   "metadata": {},
   "source": [
    "As most common method to impute null values is replacing with mean value, therefore here I have replaced age null values with the mean of Age. However, this will affect the result as all the age values which are null, will be replaced with one age group. The best case scenario would be if I could predict age as well and replacing values with the predicted age, this will be the work in future as I am not aware of machine learning techniques."
   ]
  },
  {
   "cell_type": "code",
   "execution_count": 12,
   "metadata": {
    "collapsed": false
   },
   "outputs": [
    {
     "name": "stdout",
     "output_type": "stream",
     "text": [
      "29.69911764705882\n",
      "<class 'pandas.core.frame.DataFrame'>\n",
      "RangeIndex: 891 entries, 0 to 890\n",
      "Data columns (total 13 columns):\n",
      "PassengerId    891 non-null int64\n",
      "Survived       891 non-null int64\n",
      "Pclass         891 non-null int64\n",
      "Name           891 non-null object\n",
      "Sex            891 non-null object\n",
      "Age            891 non-null float64\n",
      "SibSp          891 non-null int64\n",
      "Parch          891 non-null int64\n",
      "Ticket         891 non-null object\n",
      "Fare           891 non-null float64\n",
      "Cabin          204 non-null object\n",
      "Embarked       891 non-null object\n",
      "age_group      891 non-null category\n",
      "dtypes: category(1), float64(2), int64(5), object(5)\n",
      "memory usage: 84.6+ KB\n"
     ]
    }
   ],
   "source": [
    "age_mean = titanic_data['Age'].mean()\n",
    "print(age_mean)\n",
    "titanic_data['Age'] = titanic_data.Age.replace(np.NaN, age_mean)\n",
    "titanic_data['age_group'] = titanic_data.age_group.replace(np.NaN, '20s')\n",
    "\n",
    "titanic_data.info()"
   ]
  },
  {
   "cell_type": "code",
   "execution_count": 13,
   "metadata": {
    "collapsed": false
   },
   "outputs": [
    {
     "data": {
      "text/html": [
       "<div>\n",
       "<table border=\"1\" class=\"dataframe\">\n",
       "  <thead>\n",
       "    <tr style=\"text-align: right;\">\n",
       "      <th></th>\n",
       "      <th>Survived</th>\n",
       "      <th>Pclass</th>\n",
       "      <th>Sex</th>\n",
       "      <th>Age</th>\n",
       "      <th>SibSp</th>\n",
       "      <th>Parch</th>\n",
       "      <th>Ticket</th>\n",
       "      <th>Fare</th>\n",
       "      <th>Embarked</th>\n",
       "      <th>age_group</th>\n",
       "    </tr>\n",
       "  </thead>\n",
       "  <tbody>\n",
       "    <tr>\n",
       "      <th>0</th>\n",
       "      <td>0</td>\n",
       "      <td>3</td>\n",
       "      <td>male</td>\n",
       "      <td>22.0</td>\n",
       "      <td>1</td>\n",
       "      <td>0</td>\n",
       "      <td>A/5 21171</td>\n",
       "      <td>7.2500</td>\n",
       "      <td>S</td>\n",
       "      <td>20s</td>\n",
       "    </tr>\n",
       "    <tr>\n",
       "      <th>1</th>\n",
       "      <td>1</td>\n",
       "      <td>1</td>\n",
       "      <td>female</td>\n",
       "      <td>38.0</td>\n",
       "      <td>1</td>\n",
       "      <td>0</td>\n",
       "      <td>PC 17599</td>\n",
       "      <td>71.2833</td>\n",
       "      <td>C</td>\n",
       "      <td>30s</td>\n",
       "    </tr>\n",
       "    <tr>\n",
       "      <th>2</th>\n",
       "      <td>1</td>\n",
       "      <td>3</td>\n",
       "      <td>female</td>\n",
       "      <td>26.0</td>\n",
       "      <td>0</td>\n",
       "      <td>0</td>\n",
       "      <td>STON/O2. 3101282</td>\n",
       "      <td>7.9250</td>\n",
       "      <td>S</td>\n",
       "      <td>20s</td>\n",
       "    </tr>\n",
       "    <tr>\n",
       "      <th>3</th>\n",
       "      <td>1</td>\n",
       "      <td>1</td>\n",
       "      <td>female</td>\n",
       "      <td>35.0</td>\n",
       "      <td>1</td>\n",
       "      <td>0</td>\n",
       "      <td>113803</td>\n",
       "      <td>53.1000</td>\n",
       "      <td>S</td>\n",
       "      <td>30s</td>\n",
       "    </tr>\n",
       "    <tr>\n",
       "      <th>4</th>\n",
       "      <td>0</td>\n",
       "      <td>3</td>\n",
       "      <td>male</td>\n",
       "      <td>35.0</td>\n",
       "      <td>0</td>\n",
       "      <td>0</td>\n",
       "      <td>373450</td>\n",
       "      <td>8.0500</td>\n",
       "      <td>S</td>\n",
       "      <td>30s</td>\n",
       "    </tr>\n",
       "  </tbody>\n",
       "</table>\n",
       "</div>"
      ],
      "text/plain": [
       "   Survived  Pclass     Sex   Age  SibSp  Parch            Ticket     Fare  \\\n",
       "0         0       3    male  22.0      1      0         A/5 21171   7.2500   \n",
       "1         1       1  female  38.0      1      0          PC 17599  71.2833   \n",
       "2         1       3  female  26.0      0      0  STON/O2. 3101282   7.9250   \n",
       "3         1       1  female  35.0      1      0            113803  53.1000   \n",
       "4         0       3    male  35.0      0      0            373450   8.0500   \n",
       "\n",
       "  Embarked age_group  \n",
       "0        S       20s  \n",
       "1        C       30s  \n",
       "2        S       20s  \n",
       "3        S       30s  \n",
       "4        S       30s  "
      ]
     },
     "execution_count": 13,
     "metadata": {},
     "output_type": "execute_result"
    }
   ],
   "source": [
    "#remove unwanted column\n",
    "titanic_data_new = titanic_data.drop(['PassengerId','Name','Cabin'],1)\n",
    "titanic_data_new.head()"
   ]
  },
  {
   "cell_type": "markdown",
   "metadata": {},
   "source": [
    "# Data Exploration "
   ]
  },
  {
   "cell_type": "markdown",
   "metadata": {},
   "source": [
    "### Grouping titanic sample data frame in Survivors and Non Survivors"
   ]
  },
  {
   "cell_type": "code",
   "execution_count": 14,
   "metadata": {
    "collapsed": false
   },
   "outputs": [],
   "source": [
    "## Grouping survivors and non survivors passengers in two variables\n",
    "titanic_data_survivors_after_cleaning = titanic_data_new.groupby('Survived').get_group(1)\n",
    "\n",
    "titanic_data_non_survivors_after_cleaning = titanic_data_new.groupby('Survived').get_group(0)\n",
    "\n"
   ]
  },
  {
   "cell_type": "code",
   "execution_count": 52,
   "metadata": {
    "collapsed": false
   },
   "outputs": [
    {
     "data": {
      "image/png": "[encoded data removed]",
      "text/plain": [
       "<matplotlib.figure.Figure at 0x1dfb462a0f0>"
      ]
     },
     "metadata": {},
     "output_type": "display_data"
    }
   ],
   "source": [
    "sns.pointplot(x='Sex', y='Survived', data=titanic_data_new);\n",
    "plt.ylabel('Survival Rate')\n",
    "plt.show()"
   ]
  },
  {
   "cell_type": "markdown",
   "metadata": {},
   "source": [
    "The above chart shows that survival rate of female gender is much higher than male gender in general."
   ]
  },
  {
   "cell_type": "code",
   "execution_count": 15,
   "metadata": {
    "collapsed": false
   },
   "outputs": [],
   "source": [
    "age_group_survivors_after_cleaning = titanic_data_survivors_after_cleaning.groupby('age_group').size()\n",
    "age_group_non_survivors_after_cleaning = titanic_data_non_survivors_after_cleaning.groupby('age_group').size()\n",
    "\n"
   ]
  },
  {
   "cell_type": "code",
   "execution_count": 16,
   "metadata": {
    "collapsed": false
   },
   "outputs": [
    {
     "name": "stdout",
     "output_type": "stream",
     "text": [
      "Populating the interactive namespace from numpy and matplotlib\n"
     ]
    },
    {
     "data": {
      "image/png": "[encoded data removed]",
      "text/plain": [
       "<matplotlib.figure.Figure at 0x1dfb1cc66a0>"
      ]
     },
     "metadata": {},
     "output_type": "display_data"
    }
   ],
   "source": [
    "# Plotting survivors by age group\n",
    "\n",
    "import matplotlib.pyplot as plt\n",
    "%pylab inline \n",
    "import seaborn as  sns\n",
    "\n",
    "plt.figure(figsize=(10,5))\n",
    "\n",
    "N = 10\n",
    "index = np.arange(N)    # the x locations for the groups\n",
    "width = 0.35       # the width of the bars: can also be len(x) sequence\n",
    "\n",
    "p1 = plt.bar(index, age_group_survivors_before_cleaning, width, color='#d62728')\n",
    "p2 = plt.bar(index+width, age_group_survivors_after_cleaning, width)\n",
    "\n",
    "plt.ylabel('Survival')\n",
    "plt.title('Scores by age_group')\n",
    "plt.xticks(index, ('Kids', 'Teens', '20s', '30s', '40s','50s','60s','70s','80s','90s','100s'))\n",
    "plt.yticks(np.arange(0, 141, 10))\n",
    "plt.legend((p1[0], p2[0]), ('Before Cleaning', 'After Cleaning'))\n",
    "\n",
    "\n",
    "\n",
    "plt.show()"
   ]
  },
  {
   "cell_type": "code",
   "execution_count": null,
   "metadata": {
    "collapsed": true
   },
   "outputs": [],
   "source": []
  },
  {
   "cell_type": "code",
   "execution_count": 17,
   "metadata": {
    "collapsed": false
   },
   "outputs": [
    {
     "data": {
      "image/png": "[encoded data removed]",
      "text/plain": [
       "<matplotlib.figure.Figure at 0x1dfb1cc6588>"
      ]
     },
     "metadata": {},
     "output_type": "display_data"
    }
   ],
   "source": [
    "# Plotting Non Survivors by age group\n",
    "\n",
    "plt.figure(figsize=(10,5))\n",
    "\n",
    "N = 10\n",
    "index = np.arange(N)    # the x locations for the groups\n",
    "width = 0.35       # the width of the bars: can also be len(x) sequence\n",
    "\n",
    "p1 = plt.bar(index, age_group_non_survivors_before_cleaning, width, color='#d62728')\n",
    "p2 = plt.bar(index+width, age_group_non_survivors_after_cleaning, width)\n",
    "\n",
    "plt.ylabel('Non Survival')\n",
    "plt.title('Scores by age_group')\n",
    "plt.xticks(index, ('Kids', 'Teens', '20s', '30s', '40s','50s','60s','70s','80s','90s','100s'))\n",
    "plt.yticks(np.arange(0, 281, 10))\n",
    "plt.legend((p1[0], p2[0]), ('Before Cleaning', 'After Cleaning'))\n",
    "\n",
    "\n",
    "\n",
    "plt.show()"
   ]
  },
  {
   "cell_type": "markdown",
   "metadata": {},
   "source": [
    "We can see that count of survivors and non survivors, both have increased in age group 20s as we replaced null entries in age with 20s. However, the count of 20s age group was already higher than the other age group in non survivors dataset. The count before cleaning with 20s and 30s were almost same, whereas after cleaning and replacing value with the mean age widened the gap between 20s and 30s age group. We have to assume that replacing age with mean age for null entries wouldn't affect our analysis. "
   ]
  },
  {
   "cell_type": "markdown",
   "metadata": {},
   "source": [
    "The next step includes surviviors and non survivors by age group to determine if there is any impact on survival rate due to the age group.\n"
   ]
  },
  {
   "cell_type": "code",
   "execution_count": 28,
   "metadata": {
    "collapsed": false
   },
   "outputs": [],
   "source": [
    "## Calculating percent of survivors and non survivors age group\n",
    "titanic_data_survivors_age_group = titanic_data_survivors_after_cleaning.groupby('age_group').size()\n",
    "titanic_data_non_survivors_age_group = titanic_data_non_survivors_after_cleaning.groupby('age_group').size()\n",
    "\n",
    "\n",
    "total_survivors_age_group = titanic_data_survivors_age_group + titanic_data_non_survivors_age_group\n",
    "percent_survivor_age_group = (titanic_data_survivors_age_group*1.0/total_survivors_age_group)*100\n",
    "percent_non_survivor_age_group = (titanic_data_non_survivors_age_group*1.0/total_survivors_age_group)*100"
   ]
  },
  {
   "cell_type": "code",
   "execution_count": 43,
   "metadata": {
    "collapsed": false
   },
   "outputs": [
    {
     "data": {
      "image/png": "[encoded data removed]",
      "text/plain": [
       "<matplotlib.figure.Figure at 0x1dfb46a8eb8>"
      ]
     },
     "metadata": {},
     "output_type": "display_data"
    }
   ],
   "source": [
    "plt.figure(figsize=(10,5))\n",
    "\n",
    "N = 10\n",
    "index = np.arange(N)    # the x locations for the groups\n",
    "width = 0.35       # the width of the bars: can also be len(x) sequence\n",
    "\n",
    "p1 = plt.bar(index, percent_survivor_age_group, width, color='#d62728')\n",
    "p2 = plt.bar(index+width, percent_non_survivor_age_group, width)\n",
    "\n",
    "plt.ylabel('Survival Percent')\n",
    "plt.title('Scores by age_group')\n",
    "plt.xticks(index, ('Kids', 'Teens', '20s', '30s', '40s','50s','60s','70s','80s','90s','100s'))\n",
    "plt.yticks(np.arange(0, 101, 10))\n",
    "plt.legend((p1[0], p2[0]), ('Survivors', 'Non Survivors'))\n",
    "\n",
    "\n",
    "\n",
    "plt.show()"
   ]
  },
  {
   "cell_type": "markdown",
   "metadata": {},
   "source": [
    "By looking at bar chart above for survivora and non survivors by age group, Kids survival rate is highest, followed by 80s. It is interesting that 80s age group has 100% survival rate. We would like to know in this sample data set how many passengers were in 80s group\n"
   ]
  },
  {
   "cell_type": "code",
   "execution_count": 44,
   "metadata": {
    "collapsed": false
   },
   "outputs": [
    {
     "name": "stdout",
     "output_type": "stream",
     "text": [
      "age_group\n",
      "Kid      38\n",
      "Teen     41\n",
      "20s     129\n",
      "30s      73\n",
      "40s      34\n",
      "50s      20\n",
      "60s       6\n",
      "70s       0\n",
      "80s       1\n",
      "90s       0\n",
      "dtype: int64\n",
      "age_group\n",
      "Kid      24\n",
      "Teen     61\n",
      "20s     268\n",
      "30s      94\n",
      "40s      55\n",
      "50s      28\n",
      "60s      13\n",
      "70s       6\n",
      "80s       0\n",
      "90s       0\n",
      "dtype: int64\n"
     ]
    }
   ],
   "source": [
    "print(titanic_data_survivors_age_group)\n",
    "print(titanic_data_non_survivors_age_group)"
   ]
  },
  {
   "cell_type": "markdown",
   "metadata": {},
   "source": [
    "In this sample dataset 80s group has only one passenger in survivors group and zero passengers in non survivors.Whereas 70s age group has zero percent survival rate.Therefore,we can not determine that whether old age people had more help or people who cannot be saved were not able reach to lifeboats available. Or, it can be assumed they let young people go first because of thier age.\n",
    "Age group 20s has most numbers in survival and non survival data, which can be explained as we replaced null age values with mean age in our original dataset."
   ]
  },
  {
   "cell_type": "markdown",
   "metadata": {},
   "source": [
    "Grouping sample data frame of survivors and non survivors by Gender"
   ]
  },
  {
   "cell_type": "code",
   "execution_count": 45,
   "metadata": {
    "collapsed": false
   },
   "outputs": [],
   "source": [
    "titanic_data_survivors_female = titanic_data_survivors_after_cleaning.groupby('Sex').get_group('female')\n",
    "titanic_data_survivors_male = titanic_data_survivors_after_cleaning.groupby('Sex').get_group('male')\n",
    "titanic_data_non_survivors_female = titanic_data_non_survivors_after_cleaning.groupby('Sex').get_group('female')\n",
    "titanic_data_non_survivors_male = titanic_data_non_survivors_after_cleaning.groupby('Sex').get_group('male')\n",
    "\n",
    "survivors_female_age_group = titanic_data_survivors_female.groupby('age_group').size()\n",
    "survivors_male_age_group = titanic_data_survivors_male.groupby('age_group').size()\n",
    "non_survivors_female_age_group = titanic_data_non_survivors_female.groupby('age_group').size()\n",
    "non_survivors_male_age_group = titanic_data_non_survivors_male.groupby('age_group').size()\n",
    "\n",
    "total_survivors_age_group = survivors_female_age_group + survivors_male_age_group\n",
    "percent_female_age_group = (survivors_female_age_group*1.0/total_survivors_age_group)*100\n",
    "\n",
    "percent_male_age_group = (survivors_male_age_group*1.0/total_survivors_age_group)*100\n",
    "\n"
   ]
  },
  {
   "cell_type": "code",
   "execution_count": 46,
   "metadata": {
    "collapsed": false
   },
   "outputs": [
    {
     "data": {
      "image/png": "[encoded data removed]",
      "text/plain": [
       "<matplotlib.figure.Figure at 0x1dfb3154ac8>"
      ]
     },
     "metadata": {},
     "output_type": "display_data"
    }
   ],
   "source": [
    "plt.figure(figsize=(10,5))\n",
    "\n",
    "N = 10\n",
    "index = np.arange(N)    # the x locations for the groups\n",
    "width = 0.35       # the width of the bars: can also be len(x) sequence\n",
    "\n",
    "p1 = plt.bar(index, percent_female_age_group, width, color='#d62728')\n",
    "p2 = plt.bar(index+width, percent_male_age_group, width)\n",
    "\n",
    "plt.ylabel('Survival Percent')\n",
    "plt.title('Scores by age_group')\n",
    "plt.xticks(index, ('Kids', 'Teens', '20s', '30s', '40s','50s','60s','70s','80s','90s','100s'))\n",
    "plt.yticks(np.arange(0, 101, 10))\n",
    "plt.legend((p1[0], p2[0]), ('Female', 'Male'))\n",
    "\n",
    "\n",
    "\n",
    "plt.show()"
   ]
  },
  {
   "cell_type": "markdown",
   "metadata": {},
   "source": [
    "Survival rate of female and male is same in Kids, whereas in all other age groups survival rate of female is more than male. It can be assumed except Kids age group, in all other age groups they followed the women first policy."
   ]
  },
  {
   "cell_type": "markdown",
   "metadata": {},
   "source": [
    "## Grouping sample frame of survivors and non survivors by Passenger Class"
   ]
  },
  {
   "cell_type": "code",
   "execution_count": 47,
   "metadata": {
    "collapsed": false
   },
   "outputs": [
    {
     "name": "stdout",
     "output_type": "stream",
     "text": [
      "Average data for Survivors by Passenger Class\n",
      "        Survived        Age     SibSp     Parch       Fare\n",
      "Pclass                                                    \n",
      "1            1.0  34.784615  0.492647  0.389706  95.608029\n",
      "2            1.0  26.076166  0.494253  0.643678  22.055700\n",
      "3            1.0  23.232689  0.436975  0.420168  13.694887\n"
     ]
    }
   ],
   "source": [
    "titanic_data_survivors_Pclass = titanic_data_survivors_after_cleaning.groupby('Pclass').size()\n",
    "titanic_data_non_survivors_Pclass = titanic_data_non_survivors_after_cleaning.groupby('Pclass').size()\n",
    "\n",
    "\n",
    "total_passengers_Pclass = titanic_data_survivors_Pclass +titanic_data_non_survivors_Pclass\n",
    "percent_survivors_Pclass = (titanic_data_survivors_Pclass*1.0/total_passengers_Pclass)*100\n",
    "percent_non_survivors_Pclass = (titanic_data_non_survivors_Pclass*1.0/total_passengers_Pclass)*100\n",
    "\n",
    "print('Average data for Survivors by Passenger Class')\n",
    "print(titanic_data_survivors_after_cleaning.groupby('Pclass').mean())\n",
    "\n"
   ]
  },
  {
   "cell_type": "code",
   "execution_count": 48,
   "metadata": {
    "collapsed": false
   },
   "outputs": [
    {
     "name": "stdout",
     "output_type": "stream",
     "text": [
      "Average data for Non Survivors by Passenger Class\n",
      "        Survived        Age     SibSp     Parch       Fare\n",
      "Pclass                                                    \n",
      "1            0.0  40.896074  0.287500  0.300000  64.684008\n",
      "2            0.0  33.266947  0.319588  0.144330  19.412328\n",
      "3            0.0  27.417500  0.672043  0.384409  13.669364\n"
     ]
    }
   ],
   "source": [
    "print('Average data for Non Survivors by Passenger Class')\n",
    "print(titanic_data_non_survivors_after_cleaning.groupby('Pclass').mean())"
   ]
  },
  {
   "cell_type": "markdown",
   "metadata": {},
   "source": [
    "The average of data for survivors/non survivors by class shows that the mean age of survivors is in low twenties for class 2 and class 3. Whereas, for non survivors the mean age for class 2 and class 3 is high twenties and low thirties. "
   ]
  },
  {
   "cell_type": "code",
   "execution_count": 49,
   "metadata": {
    "collapsed": false
   },
   "outputs": [
    {
     "data": {
      "image/png": "[encoded data removed]",
      "text/plain": [
       "<matplotlib.figure.Figure at 0x1dfb464ec88>"
      ]
     },
     "metadata": {},
     "output_type": "display_data"
    }
   ],
   "source": [
    "plt.figure(figsize=(10,5))\n",
    "\n",
    "N = 3\n",
    "index = np.arange(N)    # the x locations for the groups\n",
    "width = 0.35       # the width of the bars: can also be len(x) sequence\n",
    "\n",
    "p1 = plt.bar(index, percent_survivors_Pclass, width, color='#d62728')\n",
    "p2 = plt.bar(index, percent_non_survivors_Pclass, width,bottom=percent_survivors_Pclass\n",
    "             )\n",
    "\n",
    "plt.ylabel('Survival Percent')\n",
    "plt.title('Scores by Class')\n",
    "plt.xticks(index, ('Class 1', 'Class 2', 'Class 3'))\n",
    "plt.yticks(np.arange(0, 101, 10))\n",
    "plt.legend((p1[0], p2[0]), ('Survivors', 'Non Survivors'))\n",
    "\n",
    "\n",
    "\n",
    "plt.show()"
   ]
  },
  {
   "cell_type": "markdown",
   "metadata": {},
   "source": [
    "Looking at the above graph, it is clear that class 1 passengers had more chances of survivals. "
   ]
  },
  {
   "cell_type": "code",
   "execution_count": 53,
   "metadata": {
    "collapsed": false
   },
   "outputs": [
    {
     "data": {
      "text/plain": [
       "Ttest_indResult(statistic=0.84280713155623788, pvalue=0.39992881040918493)"
      ]
     },
     "execution_count": 53,
     "metadata": {},
     "output_type": "execute_result"
    }
   ],
   "source": [
    "from scipy import stats\n",
    "stats.ttest_ind(titanic_data_survivors_female['Age'], titanic_data_survivors_male['Age'])"
   ]
  },
  {
   "cell_type": "markdown",
   "metadata": {},
   "source": [
    "# Conclusion"
   ]
  },
  {
   "cell_type": "markdown",
   "metadata": {},
   "source": [
    "Above graph suggests that \n",
    "1. Age group affected the survival chances. Percent survival rate is highest in Kids Age group. However, all other group are almost close to each other. With respect to kids we can say that age group affected the survival chances of passengers \n",
    "\n",
    "2. Gender also was a key variable in order to have a more survival rate. Female gender had more survival rate than the Male. Addintinally, Teens age group had better survival rate than any other age group. It may be possible they were easy to find out, whereas kids age group mostly stayed with their parents or guardian and couldn't reach to lifeboats quickly.\n",
    "\n",
    "3. Similarly, Class 1 had least number of casualities, whereas Class 3 had most number of casualities. This also suggests that class one passengers had more life boats and equipments closer to thier cabins which helped them to reach to safe places quicker. Whereas class two and class three passengers didn't have enough life boats and equipments."
   ]
  },
  {
   "cell_type": "markdown",
   "metadata": {},
   "source": [
    "# Limitations\n",
    "\n",
    "I have imputed null values for age with the mean value of age which sort of represent limitations, because it increases 20s age group count dramatically. Therefore, all the results are presented in percent form so that increase in count of passengers in 20s group won't affect conclusion dramatically."
   ]
  },
  {
   "cell_type": "markdown",
   "metadata": {},
   "source": [
    "## References: \n",
    "\n",
    "1.  https://stackoverflow.com/questions/31726643/how-do-i-get-multiple-subplots-in-matplotlib\n",
    "\n",
    "2. https://www.kaggle.com/c/titanic/data\n",
    "\n",
    "3. http://matplotlib.org/examples/pylab_examples/bar_stacked.html\n",
    "\n",
    "4. http://pandas.pydata.org/pandas-docs/version/0.15.0/visualization.html#bar-plots\n",
    "\n",
    "5. https://en.wikipedia.org/wiki/Women_and_children_first\n"
   ]
  }
 ],
 "metadata": {
  "kernelspec": {
   "display_name": "Python 3",
   "language": "python",
   "name": "python3"
  },
  "language_info": {
   "codemirror_mode": {
    "name": "ipython",
    "version": 3
   },
   "file_extension": ".py",
   "mimetype": "text/x-python",
   "name": "python",
   "nbconvert_exporter": "python",
   "pygments_lexer": "ipython3",
   "version": "3.6.0"
  }
 },
 "nbformat": 4,
 "nbformat_minor": 2
}
